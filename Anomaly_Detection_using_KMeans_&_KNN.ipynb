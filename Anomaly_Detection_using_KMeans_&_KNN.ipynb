{
  "nbformat": 4,
  "nbformat_minor": 0,
  "metadata": {
    "colab": {
      "provenance": []
    },
    "kernelspec": {
      "name": "python3",
      "display_name": "Python 3"
    },
    "language_info": {
      "name": "python"
    }
  },
  "cells": [
    {
      "cell_type": "markdown",
      "source": [
        "---\n",
        "\n",
        "##**Anomaly Detection using KMeans and KNN**\n",
        "\n",
        "---\n"
      ],
      "metadata": {
        "id": "0pZ1m9TreWMk"
      }
    },
    {
      "cell_type": "code",
      "source": [
        "!pip install faker"
      ],
      "metadata": {
        "colab": {
          "base_uri": "https://localhost:8080/"
        },
        "id": "FsRrvYdAswLC",
        "outputId": "394f78be-62e3-4255-e52a-09a2eda44f6f"
      },
      "execution_count": 2,
      "outputs": [
        {
          "output_type": "stream",
          "name": "stdout",
          "text": [
            "Collecting faker\n",
            "  Downloading Faker-28.4.1-py3-none-any.whl.metadata (15 kB)\n",
            "Requirement already satisfied: python-dateutil>=2.4 in /usr/local/lib/python3.10/dist-packages (from faker) (2.8.2)\n",
            "Requirement already satisfied: six>=1.5 in /usr/local/lib/python3.10/dist-packages (from python-dateutil>=2.4->faker) (1.16.0)\n",
            "Downloading Faker-28.4.1-py3-none-any.whl (1.8 MB)\n",
            "\u001b[2K   \u001b[90m━━━━━━━━━━━━━━━━━━━━━━━━━━━━━━━━━━━━━━━━\u001b[0m \u001b[32m1.8/1.8 MB\u001b[0m \u001b[31m18.1 MB/s\u001b[0m eta \u001b[36m0:00:00\u001b[0m\n",
            "\u001b[?25hInstalling collected packages: faker\n",
            "Successfully installed faker-28.4.1\n"
          ]
        }
      ]
    },
    {
      "cell_type": "code",
      "source": [
        "# python outlier detection\n",
        "!pip install pyod"
      ],
      "metadata": {
        "colab": {
          "base_uri": "https://localhost:8080/"
        },
        "id": "-QyHQVEgtL_8",
        "outputId": "edcd2281-94e5-4a5b-c201-b7969b0b6af6"
      },
      "execution_count": 4,
      "outputs": [
        {
          "output_type": "stream",
          "name": "stdout",
          "text": [
            "Collecting pyod\n",
            "  Downloading pyod-2.0.2.tar.gz (165 kB)\n",
            "\u001b[2K     \u001b[90m━━━━━━━━━━━━━━━━━━━━━━━━━━━━━━━━━━━━━━━━\u001b[0m \u001b[32m165.8/165.8 kB\u001b[0m \u001b[31m3.5 MB/s\u001b[0m eta \u001b[36m0:00:00\u001b[0m\n",
            "\u001b[?25h  Preparing metadata (setup.py) ... \u001b[?25l\u001b[?25hdone\n",
            "Requirement already satisfied: joblib in /usr/local/lib/python3.10/dist-packages (from pyod) (1.4.2)\n",
            "Requirement already satisfied: matplotlib in /usr/local/lib/python3.10/dist-packages (from pyod) (3.7.1)\n",
            "Requirement already satisfied: numpy>=1.19 in /usr/local/lib/python3.10/dist-packages (from pyod) (1.26.4)\n",
            "Requirement already satisfied: numba>=0.51 in /usr/local/lib/python3.10/dist-packages (from pyod) (0.60.0)\n",
            "Requirement already satisfied: scipy>=1.5.1 in /usr/local/lib/python3.10/dist-packages (from pyod) (1.13.1)\n",
            "Requirement already satisfied: scikit-learn>=0.22.0 in /usr/local/lib/python3.10/dist-packages (from pyod) (1.3.2)\n",
            "Requirement already satisfied: llvmlite<0.44,>=0.43.0dev0 in /usr/local/lib/python3.10/dist-packages (from numba>=0.51->pyod) (0.43.0)\n",
            "Requirement already satisfied: threadpoolctl>=2.0.0 in /usr/local/lib/python3.10/dist-packages (from scikit-learn>=0.22.0->pyod) (3.5.0)\n",
            "Requirement already satisfied: contourpy>=1.0.1 in /usr/local/lib/python3.10/dist-packages (from matplotlib->pyod) (1.3.0)\n",
            "Requirement already satisfied: cycler>=0.10 in /usr/local/lib/python3.10/dist-packages (from matplotlib->pyod) (0.12.1)\n",
            "Requirement already satisfied: fonttools>=4.22.0 in /usr/local/lib/python3.10/dist-packages (from matplotlib->pyod) (4.53.1)\n",
            "Requirement already satisfied: kiwisolver>=1.0.1 in /usr/local/lib/python3.10/dist-packages (from matplotlib->pyod) (1.4.7)\n",
            "Requirement already satisfied: packaging>=20.0 in /usr/local/lib/python3.10/dist-packages (from matplotlib->pyod) (24.1)\n",
            "Requirement already satisfied: pillow>=6.2.0 in /usr/local/lib/python3.10/dist-packages (from matplotlib->pyod) (9.4.0)\n",
            "Requirement already satisfied: pyparsing>=2.3.1 in /usr/local/lib/python3.10/dist-packages (from matplotlib->pyod) (3.1.4)\n",
            "Requirement already satisfied: python-dateutil>=2.7 in /usr/local/lib/python3.10/dist-packages (from matplotlib->pyod) (2.8.2)\n",
            "Requirement already satisfied: six>=1.5 in /usr/local/lib/python3.10/dist-packages (from python-dateutil>=2.7->matplotlib->pyod) (1.16.0)\n",
            "Building wheels for collected packages: pyod\n",
            "  Building wheel for pyod (setup.py) ... \u001b[?25l\u001b[?25hdone\n",
            "  Created wheel for pyod: filename=pyod-2.0.2-py3-none-any.whl size=198469 sha256=af4ba14b9ca860c2a488297e6923c5bc98aa13b7dc10bf6afd5a44a1e3641d3d\n",
            "  Stored in directory: /root/.cache/pip/wheels/77/c2/20/34d1f15b41b701ba69f42a32304825810d680754d509f91391\n",
            "Successfully built pyod\n",
            "Installing collected packages: pyod\n",
            "Successfully installed pyod-2.0.2\n"
          ]
        }
      ]
    },
    {
      "cell_type": "code",
      "source": [
        "# Import necessary libraries\n",
        "import pandas as pd\n",
        "import numpy as np\n",
        "import matplotlib.pyplot as plt\n",
        "from faker import Faker\n",
        "from sklearn.cluster import KMeans\n",
        "from pyod.models.knn import KNN"
      ],
      "metadata": {
        "id": "f_xDxIDJrLLY"
      },
      "execution_count": 5,
      "outputs": []
    },
    {
      "cell_type": "code",
      "source": [
        "# 1. Generate Synthetic Data using Faker\n",
        "# Creating a Faker object to generate fake names\n",
        "fake = Faker()\n",
        "Faker.seed(4321)  # Setting seed for reproducibility"
      ],
      "metadata": {
        "id": "eGJ3Oe9trLFQ"
      },
      "execution_count": 6,
      "outputs": []
    },
    {
      "cell_type": "code",
      "source": [
        "# Generating 100 random fake names\n",
        "names_list = [fake.name() for _ in range(100)]\n",
        "print(names_list)"
      ],
      "metadata": {
        "colab": {
          "base_uri": "https://localhost:8080/"
        },
        "id": "R2uguXJLrLCM",
        "outputId": "90199300-a341-4419-8934-ccafc29375ca"
      },
      "execution_count": 7,
      "outputs": [
        {
          "output_type": "stream",
          "name": "stdout",
          "text": [
            "['Jason Brown', 'Jacob Stein', 'Cody Brown', 'Larry Morales', 'Jessica Hendricks', 'Brian Moore', 'Scott Baker', 'Ruth Hoffman', 'Daniel George', 'David Moody', 'Brian Maxwell', 'Cory Cooper', 'Morgan Foster', 'James Sandoval', 'Brian Lester', 'Anne Davis', 'Miss Amanda Harris MD', 'Amy Dunn', 'Brian Lee', 'Kimberly Pratt', 'Russell Yang', 'Renee Fisher', 'Rebecca Castro', 'Robert Yoder', 'Todd Young', 'John Houston', 'Matthew Valdez', 'Gary Nguyen', 'Alexander Poole', 'Dean Welch', 'Andrew Perez', 'Brian Porter', 'Aaron Walker', 'Lisa Wilson', 'Brian Miller', 'Nicholas Evans', 'Jessica Hernandez', 'Teresa Haynes', 'Angela Maynard', 'Stephanie Gregory', 'Phyllis Hess', 'Stephen Martin', 'Emily Blair', 'Hannah Holland', 'Adam Hoffman', 'Holly Roberts', 'Jeffrey Brown', 'Sarah Keith', 'Sean Weeks', 'Tony Lloyd', 'Caleb Davidson', 'Andrew Patterson', 'Joshua Ellis', 'Cassandra Lewis', 'Sabrina Wallace', 'Derek Allison', 'Taylor Dawson', 'Allison Yoder', 'Jo Brown', 'Jennifer Mcdowell', 'Matthew Fry', 'Jose Nolan', 'Richard Meza', 'Michael Moore PhD', 'Philip Anderson', 'Joyce Bishop', 'Patricia Ali', 'Raymond Galvan', 'Corey Green', 'Dr. Robert White', 'Joseph Copeland', 'Matthew King', 'Jonathan Francis', 'Carmen Hardy', 'Kendra Andersen', 'Jennifer Welch', 'Heather Ryan', 'Jeff Hays', 'Chloe Marshall', 'Kimberly Blair', 'Frederick Ramirez', 'Ariel Williams', 'Jim Thompson', 'Melissa Walker', 'Mason Williams', 'Nathan Jackson', 'Angela Howard', 'Derrick Santiago', 'Carrie Craig', 'Sean Powell', 'Thomas Garcia', 'Katherine Davis', 'Jennifer Berry', 'David Lewis', 'Linda Smith', 'Robert Garrett', 'Parker Kent', 'Michelle Logan', 'Beverly Baker DVM', 'James Decker']\n"
          ]
        }
      ]
    },
    {
      "cell_type": "code",
      "source": [
        "# Generating 100 random salary values between 1000 and 2500\n",
        "np.random.seed(7)\n",
        "salaries = [np.random.randint(1000, 2500) for _ in range(100)]\n",
        "print(salaries)"
      ],
      "metadata": {
        "colab": {
          "base_uri": "https://localhost:8080/"
        },
        "id": "kRRAANJlrK_S",
        "outputId": "8f52412d-d093-414b-c0f4-ee9a8db5ed88"
      },
      "execution_count": 8,
      "outputs": [
        {
          "output_type": "stream",
          "name": "stdout",
          "text": [
            "[1175, 2220, 1537, 1502, 1211, 1919, 2372, 2209, 2422, 1535, 1345, 1366, 1554, 1730, 1904, 2191, 2092, 2456, 1391, 1940, 2099, 1823, 1250, 2030, 2468, 2068, 2349, 2176, 1183, 1949, 2136, 1763, 2213, 1290, 1312, 1201, 2486, 1550, 1772, 1494, 2161, 2219, 2096, 1944, 1257, 1400, 2398, 2373, 1940, 1604, 1764, 1279, 1745, 1803, 2472, 2341, 2415, 2175, 1092, 1759, 2248, 1356, 1931, 1481, 1579, 2243, 1481, 2043, 1923, 1787, 1033, 2147, 2310, 1741, 1989, 2439, 2154, 2107, 1402, 1021, 1203, 1047, 1784, 1524, 1349, 1107, 1393, 1844, 1622, 1654, 1636, 1276, 1309, 1827, 1035, 1260, 1456, 2498, 2007, 2239]\n"
          ]
        }
      ]
    },
    {
      "cell_type": "code",
      "source": [
        "# Creating a DataFrame with the generated names and salaries\n",
        "df = pd.DataFrame({'person': names_list, 'salary': salaries})\n",
        "print(df.head())"
      ],
      "metadata": {
        "colab": {
          "base_uri": "https://localhost:8080/"
        },
        "id": "ZaBfH2sprK8C",
        "outputId": "9077e8a9-d391-4516-ae1c-ec071e11411c"
      },
      "execution_count": 9,
      "outputs": [
        {
          "output_type": "stream",
          "name": "stdout",
          "text": [
            "              person  salary\n",
            "0        Jason Brown    1175\n",
            "1        Jacob Stein    2220\n",
            "2         Cody Brown    1537\n",
            "3      Larry Morales    1502\n",
            "4  Jessica Hendricks    1211\n"
          ]
        }
      ]
    },
    {
      "cell_type": "code",
      "source": [
        "# 2. Introduce Anomalies\n",
        "# Changing the salary values for 16th and 65th records to introduce outliers\n",
        "df.at[16, 'salary'] = 23\n",
        "df.at[65, 'salary'] = 17\n",
        "print(f\"Anomalous entry at index 16: \\n{df.loc[16]}\")\n",
        "print(f\"Anomalous entry at index 65: \\n{df.loc[65]}\")"
      ],
      "metadata": {
        "colab": {
          "base_uri": "https://localhost:8080/"
        },
        "id": "46LONVMFrK5L",
        "outputId": "e5dc7eda-b06f-454d-c5b7-d1bd118ff9fa"
      },
      "execution_count": 10,
      "outputs": [
        {
          "output_type": "stream",
          "name": "stdout",
          "text": [
            "Anomalous entry at index 16: \n",
            "person    Miss Amanda Harris MD\n",
            "salary                       23\n",
            "Name: 16, dtype: object\n",
            "Anomalous entry at index 65: \n",
            "person    Joyce Bishop\n",
            "salary              17\n",
            "Name: 65, dtype: object\n"
          ]
        }
      ]
    },
    {
      "cell_type": "code",
      "source": [
        "# 3. Visualize Salary Distribution\n",
        "# Boxplot visualization for salary\n",
        "df['salary'].plot(kind='box', title='Boxplot of Salaries')\n",
        "plt.show()"
      ],
      "metadata": {
        "colab": {
          "base_uri": "https://localhost:8080/",
          "height": 452
        },
        "id": "Z3Q5HrfZrK19",
        "outputId": "9efc3d41-899f-4a66-f70a-1e4acaf32138"
      },
      "execution_count": 11,
      "outputs": [
        {
          "output_type": "display_data",
          "data": {
            "text/plain": [
              "<Figure size 640x480 with 1 Axes>"
            ],
            "image/png": "[encoded data removed]"
          },
          "metadata": {}
        }
      ]
    },
    {
      "cell_type": "code",
      "source": [
        "# Histogram visualization for salary\n",
        "df['salary'].plot(kind='hist', title='Histogram of Salaries', bins=20)\n",
        "plt.show()"
      ],
      "metadata": {
        "colab": {
          "base_uri": "https://localhost:8080/",
          "height": 452
        },
        "id": "_X_rKb3JrKy1",
        "outputId": "532b93d2-5c93-4164-cfb1-5fc103d51181"
      },
      "execution_count": 12,
      "outputs": [
        {
          "output_type": "display_data",
          "data": {
            "text/plain": [
              "<Figure size 640x480 with 1 Axes>"
            ],
            "image/png": "[encoded data removed]"
          },
          "metadata": {}
        }
      ]
    },
    {
      "cell_type": "code",
      "source": [
        "# 4. Anomaly Detection using KMeans\n",
        "# Reshaping and converting salary values to float64 for faster computation\n",
        "raw_salary = df['salary'].values.reshape(-1, 1).astype('float64')"
      ],
      "metadata": {
        "id": "auOFTa85rKvy"
      },
      "execution_count": 13,
      "outputs": []
    },
    {
      "cell_type": "code",
      "source": [
        "# Apply KMeans clustering (using 4 clusters)\n",
        "kmeans_model = KMeans(n_clusters=4)\n",
        "kmeans_model.fit(raw_salary)"
      ],
      "metadata": {
        "colab": {
          "base_uri": "https://localhost:8080/",
          "height": 129
        },
        "id": "ALrqE7_-rKsu",
        "outputId": "237df28b-0cd0-4a3a-869b-e01a8db02436"
      },
      "execution_count": 14,
      "outputs": [
        {
          "output_type": "stream",
          "name": "stderr",
          "text": [
            "/usr/local/lib/python3.10/dist-packages/sklearn/cluster/_kmeans.py:1416: FutureWarning: The default value of `n_init` will change from 10 to 'auto' in 1.4. Set the value of `n_init` explicitly to suppress the warning\n",
            "  super()._check_params_vs_input(X, default_n_init=10)\n"
          ]
        },
        {
          "output_type": "execute_result",
          "data": {
            "text/plain": [
              "KMeans(n_clusters=4)"
            ],
            "text/html": [
              "<style>#sk-container-id-1 {color: black;}#sk-container-id-1 pre{padding: 0;}#sk-container-id-1 div.sk-toggleable {background-color: white;}#sk-container-id-1 label.sk-toggleable__label {cursor: pointer;display: block;width: 100%;margin-bottom: 0;padding: 0.3em;box-sizing: border-box;text-align: center;}#sk-container-id-1 label.sk-toggleable__label-arrow:before {content: \"▸\";float: left;margin-right: 0.25em;color: #696969;}#sk-container-id-1 label.sk-toggleable__label-arrow:hover:before {color: black;}#sk-container-id-1 div.sk-estimator:hover label.sk-toggleable__label-arrow:before {color: black;}#sk-container-id-1 div.sk-toggleable__content {max-height: 0;max-width: 0;overflow: hidden;text-align: left;background-color: #f0f8ff;}#sk-container-id-1 div.sk-toggleable__content pre {margin: 0.2em;color: black;border-radius: 0.25em;background-color: #f0f8ff;}#sk-container-id-1 input.sk-toggleable__control:checked~div.sk-toggleable__content {max-height: 200px;max-width: 100%;overflow: auto;}#sk-container-id-1 input.sk-toggleable__control:checked~label.sk-toggleable__label-arrow:before {content: \"▾\";}#sk-container-id-1 div.sk-estimator input.sk-toggleable__control:checked~label.sk-toggleable__label {background-color: #d4ebff;}#sk-container-id-1 div.sk-label input.sk-toggleable__control:checked~label.sk-toggleable__label {background-color: #d4ebff;}#sk-container-id-1 input.sk-hidden--visually {border: 0;clip: rect(1px 1px 1px 1px);clip: rect(1px, 1px, 1px, 1px);height: 1px;margin: -1px;overflow: hidden;padding: 0;position: absolute;width: 1px;}#sk-container-id-1 div.sk-estimator {font-family: monospace;background-color: #f0f8ff;border: 1px dotted black;border-radius: 0.25em;box-sizing: border-box;margin-bottom: 0.5em;}#sk-container-id-1 div.sk-estimator:hover {background-color: #d4ebff;}#sk-container-id-1 div.sk-parallel-item::after {content: \"\";width: 100%;border-bottom: 1px solid gray;flex-grow: 1;}#sk-container-id-1 div.sk-label:hover label.sk-toggleable__label {background-color: #d4ebff;}#sk-container-id-1 div.sk-serial::before {content: \"\";position: absolute;border-left: 1px solid gray;box-sizing: border-box;top: 0;bottom: 0;left: 50%;z-index: 0;}#sk-container-id-1 div.sk-serial {display: flex;flex-direction: column;align-items: center;background-color: white;padding-right: 0.2em;padding-left: 0.2em;position: relative;}#sk-container-id-1 div.sk-item {position: relative;z-index: 1;}#sk-container-id-1 div.sk-parallel {display: flex;align-items: stretch;justify-content: center;background-color: white;position: relative;}#sk-container-id-1 div.sk-item::before, #sk-container-id-1 div.sk-parallel-item::before {content: \"\";position: absolute;border-left: 1px solid gray;box-sizing: border-box;top: 0;bottom: 0;left: 50%;z-index: -1;}#sk-container-id-1 div.sk-parallel-item {display: flex;flex-direction: column;z-index: 1;position: relative;background-color: white;}#sk-container-id-1 div.sk-parallel-item:first-child::after {align-self: flex-end;width: 50%;}#sk-container-id-1 div.sk-parallel-item:last-child::after {align-self: flex-start;width: 50%;}#sk-container-id-1 div.sk-parallel-item:only-child::after {width: 0;}#sk-container-id-1 div.sk-dashed-wrapped {border: 1px dashed gray;margin: 0 0.4em 0.5em 0.4em;box-sizing: border-box;padding-bottom: 0.4em;background-color: white;}#sk-container-id-1 div.sk-label label {font-family: monospace;font-weight: bold;display: inline-block;line-height: 1.2em;}#sk-container-id-1 div.sk-label-container {text-align: center;}#sk-container-id-1 div.sk-container {/* jupyter's `normalize.less` sets `[hidden] { display: none; }` but bootstrap.min.css set `[hidden] { display: none !important; }` so we also need the `!important` here to be able to override the default hidden behavior on the sphinx rendered scikit-learn.org. See: https://github.com/scikit-learn/scikit-learn/issues/21755 */display: inline-block !important;position: relative;}#sk-container-id-1 div.sk-text-repr-fallback {display: none;}</style><div id=\"sk-container-id-1\" class=\"sk-top-container\"><div class=\"sk-text-repr-fallback\"><pre>KMeans(n_clusters=4)</pre><b>In a Jupyter environment, please rerun this cell to show the HTML representation or trust the notebook. <br />On GitHub, the HTML representation is unable to render, please try loading this page with nbviewer.org.</b></div><div class=\"sk-container\" hidden><div class=\"sk-item\"><div class=\"sk-estimator sk-toggleable\"><input class=\"sk-toggleable__control sk-hidden--visually\" id=\"sk-estimator-id-1\" type=\"checkbox\" checked><label for=\"sk-estimator-id-1\" class=\"sk-toggleable__label sk-toggleable__label-arrow\">KMeans</label><div class=\"sk-toggleable__content\"><pre>KMeans(n_clusters=4)</pre></div></div></div></div></div>"
            ]
          },
          "metadata": {},
          "execution_count": 14
        }
      ]
    },
    {
      "cell_type": "code",
      "source": [
        "# Visualize the clustering labels\n",
        "kmeans_labels = kmeans_model.labels_\n",
        "plt.scatter(raw_salary, np.arange(0, 100), c=kmeans_labels, cmap='viridis')\n",
        "plt.title('KMeans Clustering of Salaries')\n",
        "plt.show()"
      ],
      "metadata": {
        "colab": {
          "base_uri": "https://localhost:8080/",
          "height": 452
        },
        "id": "tF_7i_BlrKp0",
        "outputId": "dc1fbd27-4157-4dad-9518-74dfba39707f"
      },
      "execution_count": 15,
      "outputs": [
        {
          "output_type": "display_data",
          "data": {
            "text/plain": [
              "<Figure size 640x480 with 1 Axes>"
            ],
            "image/png": "[encoded data removed]"
          },
          "metadata": {}
        }
      ]
    },
    {
      "cell_type": "code",
      "source": [
        "# 5. Supervised Anomaly Detection using KNN (pyOD)\n",
        "# Introduce labels for supervised learning (class 1 for anomalies)\n",
        "df['class'] = 0\n",
        "df.at[16, 'class'] = 1\n",
        "df.at[65, 'class'] = 1\n",
        "print(f\"Label for index 16: {df.at[16, 'class']}\")"
      ],
      "metadata": {
        "colab": {
          "base_uri": "https://localhost:8080/"
        },
        "id": "5LjbnV8BrKm4",
        "outputId": "ab21d4b3-3d5c-4872-cdb3-e01dcbe7db4a"
      },
      "execution_count": 16,
      "outputs": [
        {
          "output_type": "stream",
          "name": "stdout",
          "text": [
            "Label for index 16: 1\n"
          ]
        }
      ]
    },
    {
      "cell_type": "code",
      "source": [
        "# Prepare data for KNN\n",
        "X = df['salary'].values.reshape(-1, 1)\n",
        "y = df['class'].values"
      ],
      "metadata": {
        "id": "x3VLWidhrKj1"
      },
      "execution_count": 17,
      "outputs": []
    },
    {
      "cell_type": "code",
      "source": [
        "# Apply KNN model for anomaly detection (contamination level of 2%)\n",
        "knn_model = KNN(contamination=0.02, n_neighbors=5)\n",
        "knn_model.fit(X)"
      ],
      "metadata": {
        "colab": {
          "base_uri": "https://localhost:8080/"
        },
        "id": "cNVd2bBgrKgz",
        "outputId": "3bd93466-9c02-4516-abea-ade7302136dd"
      },
      "execution_count": 18,
      "outputs": [
        {
          "output_type": "execute_result",
          "data": {
            "text/plain": [
              "KNN(algorithm='auto', contamination=0.02, leaf_size=30, method='largest',\n",
              "  metric='minkowski', metric_params=None, n_jobs=1, n_neighbors=5, p=2,\n",
              "  radius=1.0)"
            ]
          },
          "metadata": {},
          "execution_count": 18
        }
      ]
    },
    {
      "cell_type": "code",
      "source": [
        "# Decision scores for training data\n",
        "y_train_scores = knn_model.decision_scores_\n",
        "print(\"KNN Decision Scores:\", y_train_scores)"
      ],
      "metadata": {
        "colab": {
          "base_uri": "https://localhost:8080/"
        },
        "id": "jJ-OWw_QrKeJ",
        "outputId": "8f2b5f9c-cd09-44b9-b203-3799b5aceb4e"
      },
      "execution_count": 19,
      "outputs": [
        {
          "output_type": "stream",
          "name": "stdout",
          "text": [
            "KNN Decision Scores: [  68.   28.   35.   33.   39.   21.   43.   30.   46.   33.   36.   27.\n",
            "   30.   34.   36.   28. 1024.   34.   35.   17.   48.   39.   39.   66.\n",
            "   30.   39.   49.   29.   67.   26.   37.   21.   26.   30.   36.   49.\n",
            "   47.   29.   15.   38.   25.   28.   51.   21.   33.   44.   41.   42.\n",
            "   17.   50.   20.   29.   19.   31.   33.   57.   42.   28.   71.   18.\n",
            "   39.   37.   13.   43.   43. 1030.   43.   54.   19.   24.   74.   29.\n",
            "   63.   23.   49.   33.   22.   40.   46.   86.   47.   60.   21.   30.\n",
            "   40.   74.   37.   60.   68.   76.   82.   26.   36.   43.   72.   30.\n",
            "   54.   59.   61.   30.]\n"
          ]
        }
      ]
    },
    {
      "cell_type": "code",
      "source": [
        "# Test the model with new salary data\n",
        "test_salary_1 = np.array([[35.]])  # Test with a potential anomaly\n",
        "print(\"Is 35 an anomaly?\", knn_model.predict(test_salary_1))  # Should return 1 (anomaly)"
      ],
      "metadata": {
        "colab": {
          "base_uri": "https://localhost:8080/"
        },
        "id": "gLX6TYV2rxh5",
        "outputId": "956ea991-b691-4375-ae53-b808527acae8"
      },
      "execution_count": 20,
      "outputs": [
        {
          "output_type": "stream",
          "name": "stdout",
          "text": [
            "Is 35 an anomaly? [1]\n"
          ]
        }
      ]
    },
    {
      "cell_type": "code",
      "source": [
        "test_salary_2 = np.array([[1005.]])  # Test with a normal salary\n",
        "print(\"Is 1005 an anomaly?\", knn_model.predict(test_salary_2))  # Should return 0 (not an anomaly)"
      ],
      "metadata": {
        "colab": {
          "base_uri": "https://localhost:8080/"
        },
        "id": "Vzd7vPGXrxef",
        "outputId": "2e953a19-c627-40dd-df7d-be8b6b9bf33d"
      },
      "execution_count": 21,
      "outputs": [
        {
          "output_type": "stream",
          "name": "stdout",
          "text": [
            "Is 1005 an anomaly? [0]\n"
          ]
        }
      ]
    },
    {
      "cell_type": "markdown",
      "source": [
        "\n",
        "\n",
        "---\n",
        "\n",
        "\n",
        "### **Conclusion:**\n",
        "\n",
        "\n",
        "---\n",
        "\n",
        "\n",
        "\n",
        "In this project, we successfully applied two methods for anomaly detection on a synthetic salary dataset. Using KMeans clustering, we identified groups of similar salary values and visually spotted outliers. We then used the KNN algorithm from the `pyOD` library for supervised anomaly detection, labeling known anomalies in the dataset and training the model to detect them. The model was able to predict potential anomalies accurately based on the contamination level.\n",
        "\n",
        "The combination of KMeans for unsupervised clustering and KNN for supervised anomaly detection demonstrated how different machine learning techniques can be applied to identify irregularities in a dataset, providing insights into the detection of outliers.\n",
        "\n",
        "\n",
        "---\n",
        "\n"
      ],
      "metadata": {
        "id": "6423-G3kt50A"
      }
    }
  ]
}